{
 "cells": [
  {
   "cell_type": "code",
   "execution_count": 36,
   "metadata": {},
   "outputs": [],
   "source": [
    "def hex2bin(hexdata):\n",
    "    scale = 16 \n",
    "    num_of_bits = 8\n",
    "    b = bin(int(hexdata, scale))[2:].zfill(num_of_bits)\n",
    "    return b"
   ]
  },
  {
   "cell_type": "code",
   "execution_count": 37,
   "metadata": {},
   "outputs": [],
   "source": [
    "def readFile(page_size):\n",
    "    d = {}\n",
    "    with open('/home/medina/UNIOESTE/SO/traces/gcc.trace') as f:\n",
    "        for line in f:\n",
    "            (key, val) = line.split()\n",
    "            d[key] = hex2bin(key)[:page_size]\n",
    "    return d\n",
    "\n",
    "# frames = int(input())\n",
    "# page_size = int(input())\n",
    "frames_size = 4\n",
    "page_size = 16\n",
    "\n",
    "processList = readFile(page_size)\n",
    "\n"
   ]
  },
  {
   "cell_type": "code",
   "execution_count": 35,
   "metadata": {},
   "outputs": [],
   "source": [
    "def optimal(processList):\n",
    "    "
   ]
  }
 ],
 "metadata": {
  "kernelspec": {
   "display_name": "Python 3",
   "language": "python",
   "name": "python3"
  },
  "language_info": {
   "codemirror_mode": {
    "name": "ipython",
    "version": 3
   },
   "file_extension": ".py",
   "mimetype": "text/x-python",
   "name": "python",
   "nbconvert_exporter": "python",
   "pygments_lexer": "ipython3",
   "version": "3.6.5"
  }
 },
 "nbformat": 4,
 "nbformat_minor": 2
}
