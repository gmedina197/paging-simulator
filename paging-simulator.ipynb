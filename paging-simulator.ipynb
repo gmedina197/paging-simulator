{
 "cells": [
  {
   "cell_type": "code",
   "execution_count": 2,
   "metadata": {},
   "outputs": [],
   "source": [
    "def hex2bin(hexdata):\n",
    "    scale = 16 \n",
    "    num_of_bits = 8\n",
    "    b = bin(int(hexdata, scale))[2:].zfill(num_of_bits)\n",
    "    return b"
   ]
  },
  {
   "cell_type": "code",
   "execution_count": 20,
   "metadata": {},
   "outputs": [
    {
     "name": "stderr",
     "output_type": "stream",
     "text": [
      "IOPub data rate exceeded.\n",
      "The notebook server will temporarily stop sending output\n",
      "to the client in order to avoid crashing it.\n",
      "To change this limit, set the config variable\n",
      "`--NotebookApp.iopub_data_rate_limit`.\n",
      "\n",
      "Current values:\n",
      "NotebookApp.iopub_data_rate_limit=1000000.0 (bytes/sec)\n",
      "NotebookApp.rate_limit_window=3.0 (secs)\n",
      "\n"
     ]
    }
   ],
   "source": [
    "def readFile(page_size):\n",
    "    d = []\n",
    "    with open('/home/medina/UNIOESTE/SO/traces/gcc.trace') as f:\n",
    "        for line in f:\n",
    "            (key, val) = line.split()\n",
    "            d.append(hex2bin(key)[:page_size])\n",
    "    return d\n",
    "\n",
    "# frames = int(input())\n",
    "# page_size = int(input())\n",
    "frames_size = 4\n",
    "page_size = 16\n",
    "\n",
    "processList = readFile(page_size)\n",
    "print(processList)"
   ]
  },
  {
   "cell_type": "code",
   "execution_count": 15,
   "metadata": {
    "scrolled": true
   },
   "outputs": [],
   "source": [
    "def optimal(processList, frames_size):\n",
    "    frames = []\n",
    "    for key, val in processList.items():\n",
    "        if len(frames) < frames_size:\n",
    "            frames.append(val)  \n",
    "        elif val not in frames:\n",
    "            aux = []\n",
    "            \n",
    "            \n",
    "\n",
    "optimal(processList, frames_size)"
   ]
  },
  {
   "cell_type": "code",
   "execution_count": null,
   "metadata": {},
   "outputs": [],
   "source": []
  }
 ],
 "metadata": {
  "kernelspec": {
   "display_name": "Python 3",
   "language": "python",
   "name": "python3"
  },
  "language_info": {
   "codemirror_mode": {
    "name": "ipython",
    "version": 3
   },
   "file_extension": ".py",
   "mimetype": "text/x-python",
   "name": "python",
   "nbconvert_exporter": "python",
   "pygments_lexer": "ipython3",
   "version": "3.6.5"
  }
 },
 "nbformat": 4,
 "nbformat_minor": 2
}
